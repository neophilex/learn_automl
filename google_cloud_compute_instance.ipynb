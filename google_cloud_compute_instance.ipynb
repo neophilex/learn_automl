{
 "cells": [
  {
   "cell_type": "code",
   "execution_count": null,
   "metadata": {},
   "outputs": [],
   "source": [
    "import os\n",
    "os.environ['GOOGLE_APPLICATION_CREDENTIALS']='/home/neophilex/.ssh/sa-neophilex-beta-owner.json'"
   ]
  },
  {
   "cell_type": "code",
   "execution_count": null,
   "metadata": {},
   "outputs": [],
   "source": [
    "ZONE='us-central1-a'\n",
    "PROJECT='neophilex-beta'\n",
    "VM_NAME = 'tester'\n",
    "TEMPLATE_NAME ='f1-micro-template-1'\n",
    "\n",
    "\n",
    "from googleapiclient import discovery\n",
    "compute_client = discovery.build('compute', 'v1')"
   ]
  },
  {
   "cell_type": "code",
   "execution_count": null,
   "metadata": {},
   "outputs": [],
   "source": [
    "def list_compute(project,zone):\n",
    "    response = compute_client.instances().list(project=project,zone=zone).execute()\n",
    "    return response"
   ]
  },
  {
   "cell_type": "code",
   "execution_count": null,
   "metadata": {},
   "outputs": [],
   "source": [
    "list_compute(project='neophilex-beta',zone='us-central1-a')"
   ]
  },
  {
   "cell_type": "code",
   "execution_count": null,
   "metadata": {},
   "outputs": [],
   "source": [
    "def create_instance(project,zone,name):\n",
    "    instance_client = discovery.build('compute', 'v1').instances()\n",
    "    \n",
    "    body = {'name':'tester',\n",
    "       'machineType':'zones/us-central1-a/machineTypes/f1-micro',\n",
    "       'disks':[\n",
    "           {\n",
    "               'boot':True,\n",
    "               'initializeParams': {\n",
    "                'sourceImage': 'https://www.googleapis.com/compute/v1/projects/debian-cloud/global/images/debian-10-buster-v20200805',\n",
    "            }\n",
    "           }\n",
    "       ],\n",
    "       'networkInterfaces':[]\n",
    "    }\n",
    "    \n",
    "    request = instance_client.insert(project='neophilex-beta',zone='us-central1-a',body=body)\n",
    "    response = request.execute()\n",
    "    \n",
    "    return response"
   ]
  },
  {
   "cell_type": "code",
   "execution_count": null,
   "metadata": {},
   "outputs": [],
   "source": [
    "create_instance(project='neophilex-beta',zone='us-central1-a',name='tester')"
   ]
  },
  {
   "cell_type": "code",
   "execution_count": null,
   "metadata": {},
   "outputs": [],
   "source": [
    "def delete_instance(project,zone,instance):\n",
    "    response = instance_client.delete(project='neophilex-beta',zone='us-central1-a',instance='tester').execute()\n",
    "    return response"
   ]
  },
  {
   "cell_type": "code",
   "execution_count": null,
   "metadata": {},
   "outputs": [],
   "source": [
    "delete_instance('neophilex-beta','us-central1-a','tester')"
   ]
  },
  {
   "cell_type": "code",
   "execution_count": null,
   "metadata": {},
   "outputs": [],
   "source": [
    "instance_client = compute_client.instances()"
   ]
  },
  {
   "cell_type": "code",
   "execution_count": null,
   "metadata": {},
   "outputs": [],
   "source": [
    "instance_client.insert(project='neophilex-beta',\n",
    "                       zone='us-central1-a',\n",
    "                       sourceInstanceTemplate='https://www.googleapis.com/compute/v1/projects/neophilex-beta/global/instanceTemplates/f1-micro-template-1',\n",
    "                      body={'name':'tester'}).execute()"
   ]
  },
  {
   "cell_type": "code",
   "execution_count": null,
   "metadata": {},
   "outputs": [],
   "source": [
    "def create_instance_from_template(project,vm_name,template_name):\n",
    "    result = discovery.build('compute', 'v1').instances().insert(project=project,\n",
    "                                                        zone=ZONE,\n",
    "                    sourceInstanceTemplate='https://www.googleapis.com/compute/v1/projects/%s/global/instanceTemplates/%s' %(PROJECT,TEMPLATE_NAME),\n",
    "                                                       body={'name':vm_name}).execute()\n",
    "    return result\n"
   ]
  },
  {
   "cell_type": "code",
   "execution_count": null,
   "metadata": {},
   "outputs": [],
   "source": [
    "create_instance_from_template(project=PROJECT,vm_name=VM_NAME,template_name=TEMPLATE_NAME)"
   ]
  },
  {
   "cell_type": "code",
   "execution_count": null,
   "metadata": {},
   "outputs": [],
   "source": []
  }
 ],
 "metadata": {
  "kernelspec": {
   "display_name": "Python 3",
   "language": "python",
   "name": "python3"
  },
  "language_info": {
   "codemirror_mode": {
    "name": "ipython",
    "version": 3
   },
   "file_extension": ".py",
   "mimetype": "text/x-python",
   "name": "python",
   "nbconvert_exporter": "python",
   "pygments_lexer": "ipython3",
   "version": "3.8.5"
  }
 },
 "nbformat": 4,
 "nbformat_minor": 4
}
