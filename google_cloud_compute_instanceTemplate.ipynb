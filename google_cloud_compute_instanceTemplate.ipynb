{
 "cells": [
  {
   "cell_type": "code",
   "execution_count": 1,
   "metadata": {},
   "outputs": [],
   "source": [
    "import os\n",
    "os.environ['GOOGLE_APPLICATION_CREDENTIALS']='/home/neophilex/.ssh/sa-neophilex-beta-owner.json'"
   ]
  },
  {
   "cell_type": "code",
   "execution_count": 2,
   "metadata": {},
   "outputs": [],
   "source": [
    "from googleapiclient import discovery\n",
    "compute_client = discovery.build('compute', 'v1')"
   ]
  },
  {
   "cell_type": "code",
   "execution_count": 3,
   "metadata": {},
   "outputs": [],
   "source": [
    "instance_client = compute_client.instanceTemplates()"
   ]
  },
  {
   "cell_type": "code",
   "execution_count": 4,
   "metadata": {},
   "outputs": [],
   "source": [
    "resource = {\n",
    "    \"name\": \"f1-micro-template-1\",\n",
    "    \"description\": \"\",\n",
    "    \"properties\": {\n",
    "        \"machineType\": \"f1-micro\",\n",
    "        \"disks\": [\n",
    "            {\n",
    "                \"boot\": True,\n",
    "                \"initializeParams\": {\n",
    "                    \"sourceImage\": \"projects/debian-cloud/global/images/debian-10-buster-v20200805\",\n",
    "                    \"diskSizeGb\": \"50\"\n",
    "                }\n",
    "            }\n",
    "        ],\n",
    "        \"networkInterfaces\": [\n",
    "            {\n",
    "                \"network\": \"projects/neophilex-beta/global/networks/default\",\n",
    "                \"accessConfigs\": [\n",
    "                    {\n",
    "                        \"name\": \"External NAT\",\n",
    "                        \"type\": \"ONE_TO_ONE_NAT\",\n",
    "                        \"networkTier\": \"PREMIUM\"\n",
    "                    }\n",
    "                ],\n",
    "            }\n",
    "        ],\n",
    "    }\n",
    "}"
   ]
  },
  {
   "cell_type": "code",
   "execution_count": 7,
   "metadata": {},
   "outputs": [],
   "source": [
    "def create_instance_template(project,body):\n",
    "    template = instance_client.insert(project='neophilex-beta',body=body)\n",
    "    return template.execute()"
   ]
  },
  {
   "cell_type": "code",
   "execution_count": 14,
   "metadata": {
    "scrolled": true
   },
   "outputs": [
    {
     "data": {
      "text/plain": [
       "{'id': '688666860985100431',\n",
       " 'name': 'operation-1597249120089-5acb08a6bb5ff-96e353f1-28645d03',\n",
       " 'operationType': 'compute.instanceTemplates.insert',\n",
       " 'targetLink': 'https://www.googleapis.com/compute/v1/projects/neophilex-beta/global/instanceTemplates/f1-micro-template-1',\n",
       " 'targetId': '5377341413733804175',\n",
       " 'status': 'RUNNING',\n",
       " 'user': 'sa-neophilex-beta-owner@neophilex-beta.iam.gserviceaccount.com',\n",
       " 'progress': 0,\n",
       " 'insertTime': '2020-08-12T09:18:40.545-07:00',\n",
       " 'startTime': '2020-08-12T09:18:40.560-07:00',\n",
       " 'selfLink': 'https://www.googleapis.com/compute/v1/projects/neophilex-beta/global/operations/operation-1597249120089-5acb08a6bb5ff-96e353f1-28645d03',\n",
       " 'kind': 'compute#operation'}"
      ]
     },
     "execution_count": 14,
     "metadata": {},
     "output_type": "execute_result"
    }
   ],
   "source": [
    "create_instance_template(project='neophilex-beta',body=resource)"
   ]
  },
  {
   "cell_type": "code",
   "execution_count": 10,
   "metadata": {},
   "outputs": [],
   "source": [
    "def list_instance_templates(project):\n",
    "    template_list = instance_client.list(project='neophilex-beta').execute()\n",
    "    return template_list"
   ]
  },
  {
   "cell_type": "code",
   "execution_count": 15,
   "metadata": {},
   "outputs": [
    {
     "name": "stdout",
     "output_type": "stream",
     "text": [
      "f1-micro-template-1\n"
     ]
    }
   ],
   "source": [
    "for i in list_instance_templates('neophilex-beta')['items']:\n",
    "    print(i['name'])"
   ]
  },
  {
   "cell_type": "code",
   "execution_count": 12,
   "metadata": {},
   "outputs": [],
   "source": [
    "def delete_instance_template(project,name):\n",
    "    result = instance_client.delete(project=project,instanceTemplate=name).execute()\n",
    "    return result"
   ]
  },
  {
   "cell_type": "code",
   "execution_count": 13,
   "metadata": {},
   "outputs": [
    {
     "data": {
      "text/plain": [
       "{'id': '7176700395976764328',\n",
       " 'name': 'operation-1597248838817-5acb079a7d6db-73b1cafe-14c909ec',\n",
       " 'operationType': 'delete',\n",
       " 'targetLink': 'https://www.googleapis.com/compute/v1/projects/neophilex-beta/global/instanceTemplates/f1-micro-template-1',\n",
       " 'targetId': '2618939113584831481',\n",
       " 'status': 'RUNNING',\n",
       " 'user': 'sa-neophilex-beta-owner@neophilex-beta.iam.gserviceaccount.com',\n",
       " 'progress': 0,\n",
       " 'insertTime': '2020-08-12T09:13:59.218-07:00',\n",
       " 'startTime': '2020-08-12T09:13:59.231-07:00',\n",
       " 'selfLink': 'https://www.googleapis.com/compute/v1/projects/neophilex-beta/global/operations/operation-1597248838817-5acb079a7d6db-73b1cafe-14c909ec',\n",
       " 'kind': 'compute#operation'}"
      ]
     },
     "execution_count": 13,
     "metadata": {},
     "output_type": "execute_result"
    }
   ],
   "source": [
    "delete_instance_template(project='neophilex-beta',name='f1-micro-template-1')"
   ]
  }
 ],
 "metadata": {
  "kernelspec": {
   "display_name": "Python 3",
   "language": "python",
   "name": "python3"
  },
  "language_info": {
   "codemirror_mode": {
    "name": "ipython",
    "version": 3
   },
   "file_extension": ".py",
   "mimetype": "text/x-python",
   "name": "python",
   "nbconvert_exporter": "python",
   "pygments_lexer": "ipython3",
   "version": "3.8.5"
  }
 },
 "nbformat": 4,
 "nbformat_minor": 4
}
