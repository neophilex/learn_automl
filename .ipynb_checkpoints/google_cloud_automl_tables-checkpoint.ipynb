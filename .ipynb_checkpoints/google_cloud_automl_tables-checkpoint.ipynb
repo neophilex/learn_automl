{
 "cells": [
  {
   "cell_type": "markdown",
   "metadata": {},
   "source": [
    "# Google Cloud Platform - AutoML tables"
   ]
  },
  {
   "cell_type": "markdown",
   "metadata": {},
   "source": [
    "https://cloud.google.com/translate/automl/docs/datasets"
   ]
  },
  {
   "cell_type": "markdown",
   "metadata": {},
   "source": [
    "https://cloud.google.com/automl"
   ]
  },
  {
   "cell_type": "markdown",
   "metadata": {},
   "source": [
    "https://cloud.google.com/automl-tables/docs/train"
   ]
  },
  {
   "cell_type": "markdown",
   "metadata": {},
   "source": [
    "https://cloud.google.com/automl-tables/docs"
   ]
  },
  {
   "cell_type": "markdown",
   "metadata": {},
   "source": [
    "## https://cloud.google.com/automl-tables/docs/notebooks"
   ]
  },
  {
   "cell_type": "code",
   "execution_count": null,
   "metadata": {},
   "outputs": [],
   "source": [
    "import os\n",
    "os.environ['GOOGLE_APPLICATION_CREDENTIALS']='/home/neophilex/.ssh/sa-neophilex-alpha-owner.json'"
   ]
  },
  {
   "cell_type": "code",
   "execution_count": null,
   "metadata": {},
   "outputs": [],
   "source": [
    "from google.cloud import automl_v1beta1 as automl\n",
    "import time"
   ]
  },
  {
   "cell_type": "code",
   "execution_count": null,
   "metadata": {},
   "outputs": [],
   "source": [
    "# TODO(developer): Uncomment and set the following variables\n",
    "\n",
    "project_id = \"neophilex-alpha\"\n",
    "dataset_display_name = \"energy_forecasting_solution\"\n",
    "model_display_name='model_iris_001'\n",
    "path = 'gs://us-central-1x/automl_iris.csv'\n",
    "\n",
    "client = automl.TablesClient(project=project_id,region='us-central1')"
   ]
  },
  {
   "cell_type": "markdown",
   "metadata": {},
   "source": [
    "### Execute it only for the first time"
   ]
  },
  {
   "cell_type": "code",
   "execution_count": null,
   "metadata": {},
   "outputs": [],
   "source": [
    "#dataset = client.create_dataset(dataset_display_name)"
   ]
  },
  {
   "cell_type": "code",
   "execution_count": null,
   "metadata": {},
   "outputs": [],
   "source": [
    "dataset = client.get_dataset(project=project_id,\n",
    "                             region='us-central1',\n",
    "                             dataset_display_name = dataset_display_name)"
   ]
  },
  {
   "cell_type": "code",
   "execution_count": null,
   "metadata": {},
   "outputs": [],
   "source": [
    "dataset"
   ]
  },
  {
   "cell_type": "code",
   "execution_count": null,
   "metadata": {},
   "outputs": [],
   "source": [
    "response = None\n",
    "if path.startswith(\"bq\"):\n",
    "    response = client.import_data(\n",
    "        dataset_display_name=dataset_display_name, bigquery_input_uri=path\n",
    "    )\n",
    "else:\n",
    "    # Get the multiple Google Cloud Storage URIs.\n",
    "    input_uris = path.split(\",\")\n",
    "    response = client.import_data(\n",
    "        dataset_display_name=dataset_display_name,\n",
    "        gcs_input_uris=input_uris,\n",
    "    )\n",
    "    \n",
    "print(\"Processing import...\")\n",
    "# synchronous check of operation status.\n",
    "print(\"Data imported. {}\".format(response.result()))"
   ]
  },
  {
   "cell_type": "code",
   "execution_count": null,
   "metadata": {},
   "outputs": [],
   "source": [
    "client.set_target_column(dataset_display_name=dataset_display_name,column_spec_display_name='species')"
   ]
  },
  {
   "cell_type": "code",
   "execution_count": null,
   "metadata": {},
   "outputs": [],
   "source": [
    "training_result = client.create_model(model_display_name='model_iris_001',dataset_display_name=dataset_display_name,\n",
    "                                      include_column_spec_names=['sepal_length','sepal_width','petal_length','petal_width'],\n",
    "                                    train_budget_milli_node_hours=1000,\n",
    "                                      \n",
    "                   )\n",
    "\n",
    "\n",
    "print(\"Training model...\")\n",
    "print(\"Training operation name: {}\".format(training_result.operation.name))\n",
    "print(\"Training completed: {}\".format(training_result.result()))"
   ]
  },
  {
   "cell_type": "code",
   "execution_count": null,
   "metadata": {},
   "outputs": [],
   "source": [
    "deploy_response = client.deploy_model(model_display_name=model_display_name)\n"
   ]
  },
  {
   "cell_type": "code",
   "execution_count": null,
   "metadata": {},
   "outputs": [],
   "source": [
    "%%time\n",
    "deploy_response.result()"
   ]
  },
  {
   "cell_type": "code",
   "execution_count": null,
   "metadata": {},
   "outputs": [],
   "source": [
    "client.predict(inputs={'sepal_length':6.2,\n",
    "                      'sepal_width':3.4,\n",
    "                      'petal_length':5.4,\n",
    "                      'petal_width':2.3},model_display_name=model_display_name)"
   ]
  },
  {
   "cell_type": "code",
   "execution_count": null,
   "metadata": {},
   "outputs": [],
   "source": [
    "undeploy_response = client.undeploy_model(model_display_name=model_display_name)\n",
    "undeploy_response.result()"
   ]
  },
  {
   "cell_type": "code",
   "execution_count": null,
   "metadata": {},
   "outputs": [],
   "source": [
    "batch_response = client.batch_predict(gcs_input_uris='gs://us-central-1x/automl_batch_predict_iris.csv',\n",
    "                     model_display_name=model_display_name,\n",
    "                     gcs_output_uri_prefix='gs://us-central-1x/03_output')"
   ]
  },
  {
   "cell_type": "code",
   "execution_count": null,
   "metadata": {},
   "outputs": [],
   "source": [
    "while batch_response.running():\n",
    "    time.sleep(10)\n",
    "    print(batch_response.running())"
   ]
  }
 ],
 "metadata": {
  "kernelspec": {
   "display_name": "Python 3",
   "language": "python",
   "name": "python3"
  },
  "language_info": {
   "codemirror_mode": {
    "name": "ipython",
    "version": 3
   },
   "file_extension": ".py",
   "mimetype": "text/x-python",
   "name": "python",
   "nbconvert_exporter": "python",
   "pygments_lexer": "ipython3",
   "version": "3.8.5"
  }
 },
 "nbformat": 4,
 "nbformat_minor": 4
}
