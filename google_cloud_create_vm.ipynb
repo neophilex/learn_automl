{
 "cells": [
  {
   "cell_type": "markdown",
   "metadata": {},
   "source": [
    "# Creating virutal machine on GCP"
   ]
  },
  {
   "cell_type": "code",
   "execution_count": null,
   "metadata": {},
   "outputs": [],
   "source": [
    "import os\n",
    "os.environ['GOOGLE_APPLICATION_CREDENTIALS']='/home/neophilex/.ssh/sa-neophilex-alpha-owner.json'"
   ]
  },
  {
   "cell_type": "code",
   "execution_count": null,
   "metadata": {},
   "outputs": [],
   "source": [
    "import googleapiclient.discovery"
   ]
  },
  {
   "cell_type": "code",
   "execution_count": null,
   "metadata": {},
   "outputs": [],
   "source": [
    "compute = googleapiclient.discovery.build('compute', 'v1')"
   ]
  },
  {
   "cell_type": "code",
   "execution_count": null,
   "metadata": {},
   "outputs": [],
   "source": [
    "def list_instances(compute, project, zone):\n",
    "    result = compute.instances().list(project=project, zone=zone).execute()\n",
    "    return result['items'] if 'items' in result else None"
   ]
  },
  {
   "cell_type": "code",
   "execution_count": null,
   "metadata": {},
   "outputs": [],
   "source": [
    "for i in list_instances(compute,'neophilex-alpha','us-east1-b'):\n",
    "    print(\"{:15}  {:20}  {:30} \".format(i['name'],i['id'], i['status']))"
   ]
  },
  {
   "cell_type": "code",
   "execution_count": null,
   "metadata": {},
   "outputs": [],
   "source": [
    "body = {\n",
    "    \"name\":\"tester\",\n",
    "    \"machineType\":\"zones/us-east1-b/machineTypes/f1-micro\",\n",
    "    \"disks\" :[\n",
    "        {\n",
    "            'boot': True,\n",
    "            'autoDelete': True,\n",
    "            'initializeParams': {\n",
    "                'sourceImage': 'https://www.googleapis.com/compute/v1/projects/debian-cloud/global/images/debian-10-buster-v20200805',\n",
    "            }\n",
    "        }\n",
    "    ],\n",
    "    'networkInterfaces': [{\n",
    "    'network': 'global/networks/default',\n",
    "    'accessConfigs': [\n",
    "        {'type': 'ONE_TO_ONE_NAT', 'name': 'External NAT'}\n",
    "    ]\n",
    "    }]\n",
    "}"
   ]
  },
  {
   "cell_type": "code",
   "execution_count": null,
   "metadata": {},
   "outputs": [],
   "source": [
    "x = compute.instances()"
   ]
  },
  {
   "cell_type": "code",
   "execution_count": null,
   "metadata": {},
   "outputs": [],
   "source": [
    "response = x.insert(project='neophilex-alpha',zone='us-east1-b',body=body).execute()"
   ]
  },
  {
   "cell_type": "code",
   "execution_count": null,
   "metadata": {},
   "outputs": [],
   "source": [
    "response = x.stop(project='neophilex-alpha',zone='us-east1-b',instance='tester').execute()"
   ]
  },
  {
   "cell_type": "code",
   "execution_count": null,
   "metadata": {},
   "outputs": [],
   "source": [
    "response = x.start(project='neophilex-alpha',zone='us-east1-b',instance='tester').execute()"
   ]
  },
  {
   "cell_type": "code",
   "execution_count": null,
   "metadata": {},
   "outputs": [],
   "source": [
    "response = x.get(project='neophilex-alpha',zone='us-east1-b',instance='tester').execute()"
   ]
  },
  {
   "cell_type": "code",
   "execution_count": null,
   "metadata": {},
   "outputs": [],
   "source": [
    "response = x.delete(project='neophilex-alpha',zone='us-east1-b',instance='tester').execute()"
   ]
  },
  {
   "cell_type": "code",
   "execution_count": null,
   "metadata": {},
   "outputs": [],
   "source": [
    "response"
   ]
  },
  {
   "cell_type": "code",
   "execution_count": null,
   "metadata": {},
   "outputs": [],
   "source": []
  }
 ],
 "metadata": {
  "kernelspec": {
   "display_name": "Python 3",
   "language": "python",
   "name": "python3"
  },
  "language_info": {
   "codemirror_mode": {
    "name": "ipython",
    "version": 3
   },
   "file_extension": ".py",
   "mimetype": "text/x-python",
   "name": "python",
   "nbconvert_exporter": "python",
   "pygments_lexer": "ipython3",
   "version": "3.8.5"
  }
 },
 "nbformat": 4,
 "nbformat_minor": 4
}
